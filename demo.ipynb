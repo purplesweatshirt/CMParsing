{
 "cells": [
  {
   "cell_type": "markdown",
   "source": [
    "# Generate Graphs"
   ],
   "metadata": {
    "collapsed": false,
    "pycharm": {
     "name": "#%% md\n"
    }
   }
  },
  {
   "cell_type": "markdown",
   "source": [
    "Clone the repository"
   ],
   "metadata": {
    "collapsed": false
   }
  },
  {
   "cell_type": "code",
   "execution_count": null,
   "outputs": [],
   "source": [
    "!git clone https://github.com/purplesweatshirt/ConceptualModelParsing.git"
   ],
   "metadata": {
    "collapsed": false,
    "pycharm": {
     "name": "#%%\n"
    }
   }
  },
  {
   "cell_type": "markdown",
   "source": [
    "Navigate into the directory"
   ],
   "metadata": {
    "collapsed": false
   }
  },
  {
   "cell_type": "code",
   "execution_count": null,
   "outputs": [],
   "source": [
    "%cd ConceptualModelParsing"
   ],
   "metadata": {
    "collapsed": false,
    "pycharm": {
     "name": "#%%\n"
    }
   }
  },
  {
   "cell_type": "markdown",
   "source": [
    "Import the required libraries and classes"
   ],
   "metadata": {
    "collapsed": false
   }
  },
  {
   "cell_type": "code",
   "execution_count": null,
   "metadata": {
    "collapsed": true
   },
   "outputs": [],
   "source": [
    "from sem_generator import SEMGenerator\n",
    "import random"
   ]
  },
  {
   "cell_type": "markdown",
   "source": [
    "Get a list of random words or load a pickled list containing the possible node names"
   ],
   "metadata": {
    "collapsed": false
   }
  },
  {
   "cell_type": "code",
   "execution_count": null,
   "outputs": [],
   "source": [
    "import requests\n",
    "\n",
    "# Warning: This list of words also includes offensive words\n",
    "url = \"https://www.mit.edu/~ecprice/wordlist.10000\"\n",
    "# Get the list of words and save them in a list\n",
    "response = requests.get(url)\n",
    "var_names = response.content.splitlines()\n",
    "var_names = [word.decode(\"utf-8\")  for word in var_names]\n",
    "\n",
    "# To load a pickled list, uncomment an run the following code:\n",
    "#import pickle\n",
    "#with open('variables_list.pkl', 'rb') as f:\n",
    "#    var_names = pickle.load(f)"
   ],
   "metadata": {
    "collapsed": false,
    "pycharm": {
     "name": "#%%\n"
    }
   }
  },
  {
   "cell_type": "markdown",
   "source": [
    "Run the graph generating algorithm"
   ],
   "metadata": {
    "collapsed": false
   }
  },
  {
   "cell_type": "code",
   "execution_count": null,
   "outputs": [],
   "source": [
    "for img_num in range(100):\n",
    "\n",
    "    print(f'ITERATION: {img_num} OF 100')\n",
    "\n",
    "    # Select number of nodes\n",
    "    amount_lv = random.randint(2, 5)\n",
    "    # Select random textual information from the pickled list that will be displayed in the nodes\n",
    "    latent_variables = list(set(['\\n'.join(random.choice(var_names).split()[:4]) for _ in range(amount_lv)]))\n",
    "\n",
    "    # Select random number of nodes connected to latent variables\n",
    "    amount_obs_vars = [random.randint(0, 3) for _ in range(len(latent_variables))]\n",
    "    obs_vars = [[random.choice(var_names) for _ in range(amount_obs_vars[i])] for i in range(len(latent_variables))]\n",
    "\n",
    "\n",
    "    # Run the generating class\n",
    "    sem_gen = SEMGenerator(f'images/sem_figure_{img_num}_{amount_lv}', 'imagesv3/test_final_outfile', latent_variables, obs_vars)\n",
    "    # Generate two graph images using the dot engine\n",
    "    sem_gen.generate_dot(2)\n",
    "    # Generate two fully-connected graph images using the dot engine\n",
    "    sem_gen.generate_dot_fc(2)\n",
    "    # Generate two graph images using the circo engine\n",
    "    sem_gen.generate_circo(2)"
   ],
   "metadata": {
    "collapsed": false,
    "pycharm": {
     "name": "#%%\n"
    }
   }
  }
 ],
 "metadata": {
  "kernelspec": {
   "display_name": "Python 3",
   "language": "python",
   "name": "python3"
  },
  "language_info": {
   "codemirror_mode": {
    "name": "ipython",
    "version": 2
   },
   "file_extension": ".py",
   "mimetype": "text/x-python",
   "name": "python",
   "nbconvert_exporter": "python",
   "pygments_lexer": "ipython2",
   "version": "2.7.6"
  }
 },
 "nbformat": 4,
 "nbformat_minor": 0
}